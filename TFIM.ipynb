{
 "cells": [
  {
   "cell_type": "code",
   "execution_count": 206,
   "id": "2ff4b1e4-0a92-400b-8201-236a35f68797",
   "metadata": {
    "tags": []
   },
   "outputs": [],
   "source": [
    "using SparseArrays\n",
    "using Arpack\n",
    "using LinearAlgebra\n",
    "using Plots"
   ]
  },
  {
   "cell_type": "code",
   "execution_count": 207,
   "id": "73a79d49-eb21-4968-9309-948b7a8ea937",
   "metadata": {
    "tags": []
   },
   "outputs": [
    {
     "data": {
      "text/plain": [
       "get_unique_row_index (generic function with 1 method)"
      ]
     },
     "execution_count": 207,
     "metadata": {},
     "output_type": "execute_result"
    }
   ],
   "source": [
    "function get_unique_row_index(column_index, i, N)\n",
    "    reference_bits =(2^(N-1) + 2^(N-2)) >> (i-1)\n",
    "    return column_index ⊻ reference_bits\n",
    "end"
   ]
  },
  {
   "cell_type": "code",
   "execution_count": 208,
   "id": "25ddcc0c-36ac-46f0-9fca-905505faff16",
   "metadata": {
    "tags": []
   },
   "outputs": [
    {
     "data": {
      "text/plain": [
       "create_sparse_TFIM (generic function with 1 method)"
      ]
     },
     "execution_count": 208,
     "metadata": {},
     "output_type": "execute_result"
    }
   ],
   "source": [
    "function create_sparse_TFIM(N, J, h)\n",
    "    I = Int[]\n",
    "    C = Int[]\n",
    "    V = Float64[]\n",
    "    for column_index in 0:(2^N) - 1\n",
    "        temp = 0\n",
    "        for i in 0:N-1\n",
    "            temp += h * (-1)^(column_index >> i)\n",
    "        end\n",
    "        # diagonal term\n",
    "        push!(I, column_index + 1)\n",
    "        push!(C, column_index + 1)\n",
    "        push!(V, temp)\n",
    "        # off diagonal terms\n",
    "        for i in 1:N-1\n",
    "            row_index = get_unique_row_index(column_index, i, N)\n",
    "            push!(I, row_index + 1)\n",
    "            push!(C, column_index + 1)\n",
    "            push!(V, -J)\n",
    "        end\n",
    "    end\n",
    "    return I, C, V\n",
    "end"
   ]
  },
  {
   "cell_type": "code",
   "execution_count": 1,
   "id": "acc83e84-ef79-4577-8d89-379154fae45d",
   "metadata": {
    "tags": []
   },
   "outputs": [
    {
     "data": {
      "text/plain": [
       "3-element Vector{Int64}:\n",
       "  8\n",
       " 10\n",
       " 12"
      ]
     },
     "execution_count": 1,
     "metadata": {},
     "output_type": "execute_result"
    }
   ],
   "source": [
    "h_range = range(0, 2, 1000)\n",
    "l_list = [8, 10, 12]"
   ]
  },
  {
   "cell_type": "code",
   "execution_count": 210,
   "id": "1766874a-4696-48b8-8a1c-72ff147386dd",
   "metadata": {
    "tags": []
   },
   "outputs": [],
   "source": [
    "gs_eigenvals = Array{Float64}(undef, length(l_list), 1000)\n",
    "for i in 1:length(l_list)\n",
    "    L = l_list[i]\n",
    "    for j in 1:length(h_range)\n",
    "        h = h_range[j]\n",
    "        I, C, V = create_sparse_TFIM(L, 1, h)\n",
    "        H = sparse(I, C, V)\n",
    "        vals, vecs = eigs(H, nev=1, which=:SR)\n",
    "        gs_eigenvals[i, j] = vals[1]\n",
    "    end\n",
    "end"
   ]
  },
  {
   "cell_type": "code",
   "execution_count": 2,
   "id": "7a0ed8ee-5146-4d67-8173-5185a598b633",
   "metadata": {
    "tags": []
   },
   "outputs": [
    {
     "ename": "LoadError",
     "evalue": "UndefVarError: `plot` not defined",
     "output_type": "error",
     "traceback": [
      "UndefVarError: `plot` not defined",
      "",
      "Stacktrace:",
      " [1] top-level scope",
      "   @ In[2]:1"
     ]
    }
   ],
   "source": [
    "P = plot()\n",
    "plot!(P, title = \"Ground State Energy vs h\", xlabel = \"h\", ylabel = \"GSE\")\n",
    "for i in 1:length(l_list)\n",
    "    plot!(P, h_range, gs_eigenvals[i, :], label = \"N= \" * string(l_list[i]))\n",
    "end\n",
    "display(P)"
   ]
  },
  {
   "cell_type": "code",
   "execution_count": null,
   "id": "db724ada-cccc-4c12-9a26-671d2646d010",
   "metadata": {},
   "outputs": [],
   "source": []
  }
 ],
 "metadata": {
  "kernelspec": {
   "display_name": "Julia 1.10.3",
   "language": "julia",
   "name": "julia-1.10"
  },
  "language_info": {
   "file_extension": ".jl",
   "mimetype": "application/julia",
   "name": "julia",
   "version": "1.10.3"
  }
 },
 "nbformat": 4,
 "nbformat_minor": 5
}
