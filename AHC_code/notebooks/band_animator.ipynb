{
 "cells": [
  {
   "cell_type": "code",
   "execution_count": 1,
   "metadata": {},
   "outputs": [
    {
     "data": {
      "text/plain": [
       "rmg_alpha_exp (generic function with 1 method)"
      ]
     },
     "metadata": {},
     "output_type": "display_data"
    }
   ],
   "source": [
    "using Arpack\n",
    "using LinearAlgebra\n",
    "using CairoMakie\n",
    "using LaTeXStrings\n",
    "using Revise\n",
    "using Interpolations\n",
    "using Roots\n",
    "using ColorSchemes\n",
    "using Colors\n",
    "using QuadGK\n",
    "using Integrals\n",
    "using StaticArrays\n",
    "include(\"/Users/avadali/Desktop/Desktop - Avi's Mac/Summer2024/AHC_code/Spinors/rmg_K.jl\")\n",
    "include(\"/Users/avadali/Desktop/Desktop - Avi's Mac/Summer2024/AHC_code/Lattice_setup/lattice_BZ.jl\")\n",
    "include(\"/Users/avadali/Desktop/Desktop - Avi's Mac/Summer2024/AHC_code/3P_funcs/patch_methods.jl\")\n",
    "include(\"/Users/avadali/Desktop/Desktop - Avi's Mac/Summer2024/AHC_code/3P_funcs/rmg_3pV.jl\")"
   ]
  },
  {
   "cell_type": "code",
   "execution_count": 3,
   "metadata": {},
   "outputs": [
    {
     "data": {
      "text/plain": [
       "vF_eigs_grid (generic function with 1 method)"
      ]
     },
     "metadata": {},
     "output_type": "display_data"
    }
   ],
   "source": [
    "function vF_eigs_grid(alpha, delta, grid, vF, index)\n",
    "    eigen_vals = Array{Float64}(undef, size(grid, 1))\n",
    "    for j in 1:length(eigen_vals)\n",
    "        x = grid[j, 1]\n",
    "        y = grid[j, 2]\n",
    "        eigen_vals[j] = vF_analytic_eigenvalues(alpha, delta, x, y, vF)[index]\n",
    "    end\n",
    "    return eigen_vals\n",
    "end"
   ]
  },
  {
   "cell_type": "code",
   "execution_count": 19,
   "metadata": {},
   "outputs": [
    {
     "data": {
      "text/plain": [
       "\"band_animation.mp4\""
      ]
     },
     "metadata": {},
     "output_type": "display_data"
    }
   ],
   "source": [
    "# Create grid\n",
    "qx = range(-10, 10, 10^2)\n",
    "qy = range(-10, 10, 10^2)\n",
    "grid = mesh_grid(qx, qy, Float64)\n",
    "\n",
    "delta = 1\n",
    "alpha = exp(im*2*pi/3)\n",
    "# vF values to animate over\n",
    "vF_center = -2 * real(alpha)\n",
    "vF_list = range(vF_center - 0.2, vF_center + 0.2, 100)\n",
    "\n",
    "Z_extrema = map(vF_list) do vF\n",
    "    Z = reshape(vF_eigs_grid(alpha/2, delta, grid, vF/2, 2), (100, 100))\n",
    "    extrema(Z)\n",
    "end\n",
    "\n",
    "# Extract overall z-limits\n",
    "zmins, zmaxs = map(first, Z_extrema), map(last, Z_extrema)\n",
    "zmin, zmax = minimum(zmins), maximum(zmaxs)\n",
    "zabs = maximum(abs.([zmin, zmax]))\n",
    "\n",
    "# Set up the figure and axis\n",
    "fig = Figure()\n",
    "ax = Axis3(fig[1, 1]; xlabel=L\"q_x\", ylabel=L\"q_y\", zlabel=L\"\\epsilon_1(q_x, q_y)\", title=\"\")\n",
    "# xlims!(ax, (-0.1, 0.1))\n",
    "# ylims!(ax, (-0.1, 0.1))\n",
    "ax.limits[] = ((minimum(qx), maximum(qx)),\n",
    "               (minimum(qy), maximum(qy)),\n",
    "               (zmin, zmax))  # Fixed Z-range\n",
    "ax.elevation[] = pi/11       # 45 degrees from qx axis (adjust as needed)\n",
    "# ax.azimuth[] = pi/10     # 45 degrees from qx axis (adjust as needed)\n",
    "ax.xticks[] = ([-10, 0, 10], [L\"-10\\kappa\", \"0\", L\"10 \\kappa\"])\n",
    "ax.yticks[] = ([-10, 0, 10], [L\"-10\\kappa\", \"0\", L\"10 \\kappa\"])\n",
    "ax.zticks[] = ([-1], [L\"-|\\Delta|\"])\n",
    "\n",
    "ax_super = Axis(fig[:, :], title = L\"\\epsilon_1(q_x, q_y) \\text{ vs } (q_x, q_y) \\ | \\Delta = 1, \\ \\alpha = e^{i 2 \\pi / 3}\", \n",
    "titlegap = 50)\n",
    "hidedecorations!(ax_super, label = false)\n",
    "hidespines!(ax_super)\n",
    "# Record animation\n",
    "record(fig, \"band_animation.mp4\", vF_list) do vF\n",
    "    empty!(ax)  # Clear previous frame\n",
    "\n",
    "    # Evaluate Z on the grid\n",
    "    Z = reshape(vF_eigs_grid(alpha/2, delta, grid, vF/2, 2), (100, 100))\n",
    "\n",
    "    # Plot surface\n",
    "    tr = surface!(ax, qx, qy, Z; colormap = :RdBu, colorrange = (-zabs, zabs))\n",
    "    # zmin, zmax = extrema(Z)\n",
    "    # ax.limits[] = ((minimum(qx), maximum(qx)),\n",
    "    #                (minimum(qy), maximum(qy)),\n",
    "    #                (zmin, zmax))\n",
    "\n",
    "    # Update the title\n",
    "    ax.title = \"vF = $(round(vF, digits=3))\"\n",
    "end"
   ]
  },
  {
   "cell_type": "code",
   "execution_count": null,
   "metadata": {},
   "outputs": [],
   "source": []
  }
 ],
 "metadata": {
  "kernelspec": {
   "display_name": "Julia 1.10.3",
   "language": "julia",
   "name": "julia-1.10"
  },
  "language_info": {
   "file_extension": ".jl",
   "mimetype": "application/julia",
   "name": "julia",
   "version": "1.10.3"
  }
 },
 "nbformat": 4,
 "nbformat_minor": 2
}
