{
 "cells": [
  {
   "cell_type": "code",
   "execution_count": 1,
   "metadata": {},
   "outputs": [
    {
     "data": {
      "text/plain": [
       "rmg_alpha_exp (generic function with 1 method)"
      ]
     },
     "metadata": {},
     "output_type": "display_data"
    }
   ],
   "source": [
    "using Arpack\n",
    "using LinearAlgebra\n",
    "using CairoMakie\n",
    "using LaTeXStrings\n",
    "using Revise\n",
    "using Interpolations\n",
    "using Roots\n",
    "using ColorSchemes\n",
    "using Colors\n",
    "using QuadGK\n",
    "using Integrals\n",
    "using StaticArrays\n",
    "include(\"/Users/avadali/Desktop/Desktop - Avi's Mac/Summer2024/AHC_code/Spinors/rmg_K.jl\")\n",
    "include(\"/Users/avadali/Desktop/Desktop - Avi's Mac/Summer2024/AHC_code/Lattice_setup/lattice_BZ.jl\")\n",
    "include(\"/Users/avadali/Desktop/Desktop - Avi's Mac/Summer2024/AHC_code/3P_funcs/patch_methods.jl\")\n",
    "include(\"/Users/avadali/Desktop/Desktop - Avi's Mac/Summer2024/AHC_code/3P_funcs/rmg_3pV.jl\")"
   ]
  },
  {
   "cell_type": "markdown",
   "metadata": {},
   "source": [
    "# Ground band animation"
   ]
  },
  {
   "cell_type": "code",
   "execution_count": 14,
   "metadata": {},
   "outputs": [
    {
     "data": {
      "text/plain": [
       "\"surface_animation.mp4\""
      ]
     },
     "metadata": {},
     "output_type": "display_data"
    }
   ],
   "source": [
    "# Create grid\n",
    "qx = range(-0.5* 10^(-2), 0.5 * 10^(-2), 10^2)\n",
    "qy = range(-0.5 * 10^(-2), 0.5 * 10^(-2), 10^2)\n",
    "grid = mesh_grid(qx, qy, Float64)\n",
    "# Δ values to animate over\n",
    "phis = range(2*pi/3 - 0.001, 2*pi/3 + 0.001, 100)\n",
    "# phis = range(0, 3, 10^2)\n",
    "\n",
    "vF = 0.4\n",
    "alpha = exp(im * 3*pi/5)\n",
    "\n",
    "Z_extrema = map(phis) do phi\n",
    "    Z = reshape(bc_no_spinors(grid, 10^(-3), vF, exp(im * phi), alpha), (100, 100))\n",
    "    extrema(Z)\n",
    "end\n",
    "\n",
    "# Extract overall z-limits\n",
    "zmins, zmaxs = map(first, Z_extrema), map(last, Z_extrema)\n",
    "zmin, zmax = minimum(zmins), maximum(zmaxs)\n",
    "zabs = maximum(abs.([zmin, zmax]))\n",
    "\n",
    "# Set up the figure and axis\n",
    "fig = Figure()\n",
    "ax = Axis3(fig[1, 1]; xlabel=L\"q_x\", ylabel=L\"q_y\", zlabel=L\"\\tilde{\\Omega}_0(q_x, q_y)\", title=\"\")\n",
    "# xlims!(ax, (-0.1, 0.1))\n",
    "# ylims!(ax, (-0.1, 0.1))\n",
    "ax.limits[] = ((minimum(qx), maximum(qx)),\n",
    "               (minimum(qy), maximum(qy)),\n",
    "               (-zabs, zabs))  # Fixed Z-range\n",
    "ax.elevation[] = pi/11       # 45 degrees from qx axis (adjust as needed)\n",
    "# ax.azimuth[] = pi/10     # 45 degrees from qx axis (adjust as needed)\n",
    "ax.xticks[] = ([-0.005, 0, 0.005], [L\"-0.005 \\kappa\", \"0\", L\"0.005 \\kappa\"])\n",
    "ax.yticks[] = ([-0.005, 0, 0.005], [L\"-0.005 \\kappa\", \"0\", L\"0.005 \\kappa\"])\n",
    "ax.zticks[] = ([0], [\"0\"])\n",
    "\n",
    "ax_super = Axis(fig[:, :], title = L\"\\tilde{\\Omega}_0(q_x, q_y) \\text{ vs } (q_x, q_y) \\ |v_F = 0.4, \\ \\alpha = e^{i 3 \\pi / 5}\", \n",
    "titlegap = 50)\n",
    "hidedecorations!(ax_super, label = false)\n",
    "hidespines!(ax_super)\n",
    "# Record animation\n",
    "record(fig, \"surface_animation.mp4\", phis) do phi\n",
    "    empty!(ax)  # Clear previous frame\n",
    "\n",
    "    # Evaluate Z on the grid\n",
    "    Z = reshape(bc_no_spinors(grid, 10^(-3), vF, exp(im * phi), alpha), (100, 100))\n",
    "\n",
    "    # Plot surface\n",
    "    tr = surface!(ax, qx, qy, Z; colormap = :RdBu, colorrange = (-zabs, zabs))\n",
    "    # zmin, zmax = extrema(Z)\n",
    "    # ax.limits[] = ((minimum(qx), maximum(qx)),\n",
    "    #                (minimum(qy), maximum(qy)),\n",
    "    #                (zmin, zmax))\n",
    "\n",
    "    # Update the title\n",
    "    ax.title = \"arg(Δ)/π = $(round(phi/pi, digits=5))\"\n",
    "end\n"
   ]
  },
  {
   "cell_type": "code",
   "execution_count": 19,
   "metadata": {},
   "outputs": [
    {
     "data": {
      "text/plain": [
       "\"alpha_surface_animation.mp4\""
      ]
     },
     "metadata": {},
     "output_type": "display_data"
    }
   ],
   "source": [
    "# Create grid\n",
    "qx = range(-0.5* 10^(-2), 0.5 * 10^(-2), 10^2)\n",
    "qy = range(-0.5 * 10^(-2), 0.5 * 10^(-2), 10^2)\n",
    "grid = mesh_grid(qx, qy, Float64)\n",
    "# Δ values to animate over\n",
    "phis = range(-pi, pi, 100)\n",
    "# phis = range(0, 3, 10^2)\n",
    "\n",
    "vF = 0.4\n",
    "delta = exp(im * (2*pi/3 - 0.00001))\n",
    "\n",
    "Z_extrema = map(phis) do phi\n",
    "    Z = reshape(bc_no_spinors(grid, 10^(-3), vF, delta, exp(im * phi)), (100, 100))\n",
    "    extrema(Z)\n",
    "end\n",
    "\n",
    "# Extract overall z-limits\n",
    "zmins, zmaxs = map(first, Z_extrema), map(last, Z_extrema)\n",
    "zmin, zmax = minimum(zmins), maximum(zmaxs)\n",
    "\n",
    "\n",
    "# Set up the figure and axis\n",
    "fig = Figure()\n",
    "ax = Axis3(fig[1, 1]; xlabel=L\"q_x\", ylabel=L\"q_y\", zlabel=L\"\\tilde{\\Omega}_0(q_x, q_y)\", title=\"\")\n",
    "# xlims!(ax, (-0.1, 0.1))\n",
    "# ylims!(ax, (-0.1, 0.1))\n",
    "zabs = maximum(abs.([zmin, zmax]))\n",
    "ax.limits[] = ((minimum(qx), maximum(qx)),\n",
    "               (minimum(qy), maximum(qy)),\n",
    "               (-zabs, zabs))  # Fixed Z-range\n",
    "ax.elevation[] = pi/11       # 45 degrees from qx axis (adjust as needed)\n",
    "# ax.azimuth[] = pi/10     # 45 degrees from qx axis (adjust as needed)\n",
    "ax.xticks[] = ([-0.005, 0, 0.005], [L\"-0.005 \\kappa\", \"0\", L\"0.005 \\kappa\"])\n",
    "ax.yticks[] = ([-0.005, 0, 0.005], [L\"-0.005 \\kappa\", \"0\", L\"0.005 \\kappa\"])\n",
    "ax.zticks[] = ([0], [\"0\"])\n",
    "\n",
    "ax_super = Axis(fig[:, :], title = L\"\\tilde{\\Omega}_0(q_x, q_y) \\text{ vs } (q_x, q_y) \\ |v_F = 0.4, \\ \\Delta \\approx e^{i 2 \\pi /3}\", \n",
    "titlegap = 50)\n",
    "hidedecorations!(ax_super, label = false)\n",
    "hidespines!(ax_super)\n",
    "# Record animation\n",
    "record(fig, \"alpha_surface_animation.mp4\", phis) do phi\n",
    "    empty!(ax)  # Clear previous frame\n",
    "\n",
    "    # Evaluate Z on the grid\n",
    "    Z = reshape(bc_no_spinors(grid, 10^(-3), vF, delta, exp(im * phi)), (100, 100))\n",
    "\n",
    "    # Plot surface\n",
    "    tr = surface!(ax, qx, qy, Z; colormap = :RdBu, colorrange = (-zabs, zabs))\n",
    "    # zmin, zmax = extrema(Z)\n",
    "    # ax.limits[] = ((minimum(qx), maximum(qx)),\n",
    "    #                (minimum(qy), maximum(qy)),\n",
    "    #                (zmin, zmax))\n",
    "\n",
    "    # Update the title\n",
    "    ax.title = \"arg(α)/π = $(round(phi/pi, digits=5))\"\n",
    "end\n"
   ]
  },
  {
   "cell_type": "code",
   "execution_count": 20,
   "metadata": {},
   "outputs": [],
   "source": []
  },
  {
   "cell_type": "code",
   "execution_count": null,
   "metadata": {},
   "outputs": [],
   "source": []
  }
 ],
 "metadata": {
  "kernelspec": {
   "display_name": "Julia 1.10.3",
   "language": "julia",
   "name": "julia-1.10"
  },
  "language_info": {
   "file_extension": ".jl",
   "mimetype": "application/julia",
   "name": "julia",
   "version": "1.10.3"
  }
 },
 "nbformat": 4,
 "nbformat_minor": 2
}
