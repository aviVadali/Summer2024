{
 "cells": [
  {
   "cell_type": "code",
   "execution_count": 1,
   "metadata": {},
   "outputs": [],
   "source": [
    "using LinearAlgebra\n",
    "using FFTW\n",
    "using Random\n",
    "using CairoMakie"
   ]
  },
  {
   "cell_type": "code",
   "execution_count": 2,
   "metadata": {},
   "outputs": [
    {
     "data": {
      "text/plain": [
       "sigma_z (generic function with 1 method)"
      ]
     },
     "execution_count": 2,
     "metadata": {},
     "output_type": "execute_result"
    },
    {
     "name": "stderr",
     "output_type": "stream",
     "text": [
      "WARNING: both CairoMakie and LinearAlgebra export \"rotate!\"; uses of it in module Main must be qualified\n"
     ]
    }
   ],
   "source": [
    "# 2x2 Pauli X\n",
    "function sigma_x()\n",
    "    return [0 1; 1 0]\n",
    "end\n",
    "# 2x2 Pauli Y\n",
    "function sigma_y()\n",
    "    return [0 -im; im 0]\n",
    "end\n",
    "# 2x2 Pauli Z\n",
    "function sigma_z()\n",
    "    return [1 0; 0 -1]\n",
    "end"
   ]
  },
  {
   "cell_type": "code",
   "execution_count": 3,
   "metadata": {},
   "outputs": [
    {
     "data": {
      "text/plain": [
       "hamiltonian (generic function with 1 method)"
      ]
     },
     "execution_count": 3,
     "metadata": {},
     "output_type": "execute_result"
    }
   ],
   "source": [
    "function hamiltonian(hbar, vF, m, k)\n",
    "    kx = k[1]\n",
    "    ky = k[2]\n",
    "    return hbar * vF * (kx * sigma_y() - ky * sigma_x()) + m * sigma_z()\n",
    "end"
   ]
  },
  {
   "cell_type": "code",
   "execution_count": 4,
   "metadata": {},
   "outputs": [
    {
     "data": {
      "text/plain": [
       "eigen_vec (generic function with 1 method)"
      ]
     },
     "execution_count": 4,
     "metadata": {},
     "output_type": "execute_result"
    }
   ],
   "source": [
    "# get the eigenvector corresponding to the band-index (l) @ k = (kx, ky)\n",
    "function eigen_vec(hbar, vF, m, k, l)\n",
    "    ham = hamiltonian(hbar, vF, m, k)\n",
    "    vecs = eigvecs(Hermitian(ham))\n",
    "    return vecs[:, l]\n",
    "end"
   ]
  },
  {
   "cell_type": "code",
   "execution_count": 5,
   "metadata": {},
   "outputs": [
    {
     "data": {
      "text/plain": [
       "theta (generic function with 1 method)"
      ]
     },
     "execution_count": 5,
     "metadata": {},
     "output_type": "execute_result"
    }
   ],
   "source": [
    "# compute the phase difference between wavefunction at (x1, y1) and (x2, y2)\n",
    "function theta(x1, y1, x2, y2, hbar, vF, m, l)\n",
    "    ev1 = eigen_vec(hbar, vF, m, [x1, y1], l)\n",
    "    ev2 = eigen_vec(hbar, vF, m, [x2, y2], l)\n",
    "    return dot(ev2, ev1) / abs(dot(ev2, ev1))\n",
    "end"
   ]
  },
  {
   "cell_type": "code",
   "execution_count": 6,
   "metadata": {},
   "outputs": [
    {
     "data": {
      "text/plain": [
       "flux (generic function with 1 method)"
      ]
     },
     "execution_count": 6,
     "metadata": {},
     "output_type": "execute_result"
    }
   ],
   "source": [
    "# Berry flux through a plaquette with corners (x1, y1), (x2, y2), (x3, y3), (x4, y4)\n",
    "function flux(x1, y1, x2, y2, x3, y3, x4, y4, hbar, vF, m, l)\n",
    "    big_theta = theta(x2, y2, x1, y1, hbar, vF, m, l) *\n",
    "        theta(x3, y3, x2, y2, hbar, vF, m, l) * theta(x4, y4, x3, y3, hbar, vF, m, l) * \n",
    "    theta(x1, y1, x4, y4, hbar, vF, m, l)\n",
    "    # Numerical instability around flux = pi, so we always force it to choose +pi\n",
    "    if abs(imag(big_theta)) < 10^(-12)\n",
    "        return abs(angle(big_theta))\n",
    "    else\n",
    "        return angle(big_theta)\n",
    "    end\n",
    "end"
   ]
  },
  {
   "cell_type": "code",
   "execution_count": 187,
   "metadata": {},
   "outputs": [
    {
     "data": {
      "text/plain": [
       "berry_curvature (generic function with 2 methods)"
      ]
     },
     "execution_count": 187,
     "metadata": {},
     "output_type": "execute_result"
    }
   ],
   "source": [
    "# Berry curvature\n",
    "function berry_curvature(points, n, hbar, vF, m, l)\n",
    "    berry_list = Vector{Float64}()\n",
    "    avg_k_x = Vector{Float64}()\n",
    "    avg_k_y = Vector{Float64}()\n",
    "    for i in 1:(n - 1)\n",
    "        for j in 1:(n - 1)\n",
    "            x1 = points[i, j, 1]\n",
    "            y1 = points[i, j, 2]\n",
    "            \n",
    "            x2 = points[i + 1, j, 1]\n",
    "            y2 = points[i + 1, j, 2]\n",
    "            \n",
    "            x3 = points[i + 1, j + 1, 1]\n",
    "            y3 = points[i + 1, j + 1, 2]\n",
    "            \n",
    "            x4 = points[i, j + 1, 1]\n",
    "            y4 = points[i, j + 1, 2]\n",
    "            \n",
    "            x_avg = (x1 + x2 + x3 + x4)/4\n",
    "            y_avg = (y1 + y2 + y3 + y4)/4\n",
    "            \n",
    "            append!(avg_k_x, x_avg)\n",
    "            append!(avg_k_y, y_avg)\n",
    "            curvature = flux(x1, y1, x2, y2, x3, y3, x4, y4, hbar, vF, m, l)\n",
    "            append!(berry_list, curvature)\n",
    "        end\n",
    "    end\n",
    "    return berry_list, avg_k_x, avg_k_y\n",
    "end"
   ]
  },
  {
   "cell_type": "code",
   "execution_count": 12,
   "metadata": {},
   "outputs": [
    {
     "data": {
      "text/plain": [
       "k_zone (generic function with 1 method)"
      ]
     },
     "execution_count": 12,
     "metadata": {},
     "output_type": "execute_result"
    }
   ],
   "source": [
    "# This generates a line of points in K-space\n",
    "function make_line(x0, x1, n, y)\n",
    "    x_vals = range(x0, x1, n)\n",
    "    line_vals = Array{Float64}(undef, n, 2)\n",
    "    for i in 1:n\n",
    "        line_vals[i, :] = [x_vals[i], y]\n",
    "    end\n",
    "    return line_vals\n",
    "end\n",
    "\n",
    "# draw a square around k of dimensions radius x radius (with point-density n)\n",
    "function k_zone(k, n, radius)\n",
    "    kx = k[1]\n",
    "    ky = k[2]\n",
    "    grid = Array{Float64}(undef, n, n, 2)\n",
    "    ky_pts = range(ky - radius/2, ky + radius/2, n)\n",
    "    for i in 1:n\n",
    "        grid[:, i, :] = make_line(kx - radius/2, kx + radius/2, n, ky_pts[i])\n",
    "    end\n",
    "    return grid\n",
    "end"
   ]
  },
  {
   "cell_type": "code",
   "execution_count": 182,
   "metadata": {},
   "outputs": [
    {
     "data": {
      "text/plain": [
       "1.0e-5"
      ]
     },
     "execution_count": 182,
     "metadata": {},
     "output_type": "execute_result"
    }
   ],
   "source": [
    "# parameters\n",
    "pd = 40\n",
    "rad = 1\n",
    "hbar = 1\n",
    "vF = 0.1\n",
    "m = 0.00001"
   ]
  },
  {
   "cell_type": "code",
   "execution_count": 183,
   "metadata": {},
   "outputs": [
    {
     "data": {
      "text/plain": [
       "40×40×2 Array{Float64, 3}:\n",
       "[:, :, 1] =\n",
       " -0.5       -0.5       -0.5       …  -0.5       -0.5       -0.5\n",
       " -0.474359  -0.474359  -0.474359     -0.474359  -0.474359  -0.474359\n",
       " -0.448718  -0.448718  -0.448718     -0.448718  -0.448718  -0.448718\n",
       " -0.423077  -0.423077  -0.423077     -0.423077  -0.423077  -0.423077\n",
       " -0.397436  -0.397436  -0.397436     -0.397436  -0.397436  -0.397436\n",
       " -0.371795  -0.371795  -0.371795  …  -0.371795  -0.371795  -0.371795\n",
       " -0.346154  -0.346154  -0.346154     -0.346154  -0.346154  -0.346154\n",
       " -0.320513  -0.320513  -0.320513     -0.320513  -0.320513  -0.320513\n",
       " -0.294872  -0.294872  -0.294872     -0.294872  -0.294872  -0.294872\n",
       " -0.269231  -0.269231  -0.269231     -0.269231  -0.269231  -0.269231\n",
       " -0.24359   -0.24359   -0.24359   …  -0.24359   -0.24359   -0.24359\n",
       " -0.217949  -0.217949  -0.217949     -0.217949  -0.217949  -0.217949\n",
       " -0.192308  -0.192308  -0.192308     -0.192308  -0.192308  -0.192308\n",
       "  ⋮                               ⋱                        \n",
       "  0.217949   0.217949   0.217949      0.217949   0.217949   0.217949\n",
       "  0.24359    0.24359    0.24359       0.24359    0.24359    0.24359\n",
       "  0.269231   0.269231   0.269231  …   0.269231   0.269231   0.269231\n",
       "  0.294872   0.294872   0.294872      0.294872   0.294872   0.294872\n",
       "  0.320513   0.320513   0.320513      0.320513   0.320513   0.320513\n",
       "  0.346154   0.346154   0.346154      0.346154   0.346154   0.346154\n",
       "  0.371795   0.371795   0.371795      0.371795   0.371795   0.371795\n",
       "  0.397436   0.397436   0.397436  …   0.397436   0.397436   0.397436\n",
       "  0.423077   0.423077   0.423077      0.423077   0.423077   0.423077\n",
       "  0.448718   0.448718   0.448718      0.448718   0.448718   0.448718\n",
       "  0.474359   0.474359   0.474359      0.474359   0.474359   0.474359\n",
       "  0.5        0.5        0.5           0.5        0.5        0.5\n",
       "\n",
       "[:, :, 2] =\n",
       " -0.5  -0.474359  -0.448718  -0.423077  …  0.423077  0.448718  0.474359  0.5\n",
       " -0.5  -0.474359  -0.448718  -0.423077     0.423077  0.448718  0.474359  0.5\n",
       " -0.5  -0.474359  -0.448718  -0.423077     0.423077  0.448718  0.474359  0.5\n",
       " -0.5  -0.474359  -0.448718  -0.423077     0.423077  0.448718  0.474359  0.5\n",
       " -0.5  -0.474359  -0.448718  -0.423077     0.423077  0.448718  0.474359  0.5\n",
       " -0.5  -0.474359  -0.448718  -0.423077  …  0.423077  0.448718  0.474359  0.5\n",
       " -0.5  -0.474359  -0.448718  -0.423077     0.423077  0.448718  0.474359  0.5\n",
       " -0.5  -0.474359  -0.448718  -0.423077     0.423077  0.448718  0.474359  0.5\n",
       " -0.5  -0.474359  -0.448718  -0.423077     0.423077  0.448718  0.474359  0.5\n",
       " -0.5  -0.474359  -0.448718  -0.423077     0.423077  0.448718  0.474359  0.5\n",
       " -0.5  -0.474359  -0.448718  -0.423077  …  0.423077  0.448718  0.474359  0.5\n",
       " -0.5  -0.474359  -0.448718  -0.423077     0.423077  0.448718  0.474359  0.5\n",
       " -0.5  -0.474359  -0.448718  -0.423077     0.423077  0.448718  0.474359  0.5\n",
       "  ⋮                                     ⋱                                \n",
       " -0.5  -0.474359  -0.448718  -0.423077     0.423077  0.448718  0.474359  0.5\n",
       " -0.5  -0.474359  -0.448718  -0.423077     0.423077  0.448718  0.474359  0.5\n",
       " -0.5  -0.474359  -0.448718  -0.423077  …  0.423077  0.448718  0.474359  0.5\n",
       " -0.5  -0.474359  -0.448718  -0.423077     0.423077  0.448718  0.474359  0.5\n",
       " -0.5  -0.474359  -0.448718  -0.423077     0.423077  0.448718  0.474359  0.5\n",
       " -0.5  -0.474359  -0.448718  -0.423077     0.423077  0.448718  0.474359  0.5\n",
       " -0.5  -0.474359  -0.448718  -0.423077     0.423077  0.448718  0.474359  0.5\n",
       " -0.5  -0.474359  -0.448718  -0.423077  …  0.423077  0.448718  0.474359  0.5\n",
       " -0.5  -0.474359  -0.448718  -0.423077     0.423077  0.448718  0.474359  0.5\n",
       " -0.5  -0.474359  -0.448718  -0.423077     0.423077  0.448718  0.474359  0.5\n",
       " -0.5  -0.474359  -0.448718  -0.423077     0.423077  0.448718  0.474359  0.5\n",
       " -0.5  -0.474359  -0.448718  -0.423077     0.423077  0.448718  0.474359  0.5"
      ]
     },
     "execution_count": 183,
     "metadata": {},
     "output_type": "execute_result"
    }
   ],
   "source": [
    "# explore a small region around K point\n",
    "k_grid = k_zone([0, 0], pd, rad)"
   ]
  },
  {
   "cell_type": "code",
   "execution_count": 184,
   "metadata": {},
   "outputs": [
    {
     "name": "stdout",
     "output_type": "stream",
     "text": [
      "  0.040326 seconds (705.80 k allocations: 91.919 MiB)\n"
     ]
    }
   ],
   "source": [
    "# Get berry curvature for all bands\n",
    "@time begin\n",
    "    flux_list = Array{Float64}(undef, 2, (pd - 1)^2)\n",
    "    kx_avg_list = Array{Float64}(undef, 2, (pd - 1)^2)\n",
    "    ky_avg_list = Array{Float64}(undef, 2, (pd - 1)^2)\n",
    "    for l in 1:2\n",
    "        temp_flux, akx, aky = berry_curvature(k_grid, pd, hbar, vF, m, l)\n",
    "        flux_list[l, :] = temp_flux\n",
    "        kx_avg_list[l, :] = akx\n",
    "        ky_avg_list[l, :] = aky\n",
    "    end\n",
    "    end"
   ]
  },
  {
   "cell_type": "code",
   "execution_count": 185,
   "metadata": {},
   "outputs": [
    {
     "name": "stdout",
     "output_type": "stream",
     "text": [
      "chern_numbers = [-0.4999099683698848, 0.4999099683698848]\n"
     ]
    },
    {
     "data": {
      "text/plain": [
       "2-element Vector{Float64}:\n",
       " -0.4999099683698848\n",
       "  0.4999099683698848"
      ]
     },
     "execution_count": 185,
     "metadata": {},
     "output_type": "execute_result"
    }
   ],
   "source": [
    "# Compute the Chern numbers of each band\n",
    "chern_numbers = Array{Float64}(undef, 2)\n",
    "for l in 1:2\n",
    "    chern_numbers[l] = sum(flux_list[l, :]) / (2 * pi)\n",
    "end\n",
    "@show chern_numbers"
   ]
  },
  {
   "cell_type": "markdown",
   "metadata": {},
   "source": [
    "The above result is what we're looking for. Introducing a Dirac mass gap means that upper and lower bands contribute $\\pm \\frac{1}{2}$ respectively to Chern number."
   ]
  },
  {
   "cell_type": "code",
   "execution_count": 188,
   "metadata": {},
   "outputs": [
    {
     "name": "stdout",
     "output_type": "stream",
     "text": [
      "  0.290319 seconds (2.59 M allocations: 108.278 MiB)\n"
     ]
    },
    {
     "data": {
      "image/png": "[encoded data removed]",
      "text/html": [
       "<img width=1000 height=500 style='object-fit: contain; height: auto;' src=\"data:image/png;base64, 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\"/>"
      ]
     },
     "execution_count": 188,
     "metadata": {},
     "output_type": "execute_result"
    }
   ],
   "source": [
    "@time begin\n",
    "    fig = Figure(size=(1000, 500), fontsize=25)\n",
    "        \n",
    "    t_string = L\"l = 1\"\n",
    "    ax = Axis(fig[1, 1], title = t_string)\n",
    "    hidedecorations!(ax)\n",
    "    tricontourf!(ax, kx_avg_list[1, :], ky_avg_list[1, :], flux_list[1, :], colormap = :Spectral)\n",
    "\n",
    "    X, ax, tr1 = tricontourf(kx_avg_list[1, :], ky_avg_list[1, :], flux_list[1, :], colormap = :Spectral)\n",
    "    cb1 = Colorbar(fig[1, 2], tr1)\n",
    "    \n",
    "    t_string = L\"l = 2\"\n",
    "    ax = Axis(fig[1, 3], title = t_string)\n",
    "    hidedecorations!(ax)\n",
    "    tricontourf!(ax, kx_avg_list[2, :], ky_avg_list[2, :], flux_list[2, :], colormap = :Spectral)\n",
    "    \n",
    "    X, ax, tr2 = tricontourf(kx_avg_list[2, :], ky_avg_list[2, :], flux_list[2, :], colormap = :Spectral)\n",
    "    cb2 = Colorbar(fig[1, 4], tr2)\n",
    "\n",
    "\n",
    "    ax = Axis(fig[:, :], xlabel = L\"k_x\", ylabel = L\"k_y\", title = L\"\\Omega (\\textbf{k})\", titlegap = 45)\n",
    "    hidedecorations!(ax, label = false)\n",
    "    hidespines!(ax)\n",
    "    fig\n",
    "        \n",
    "    end"
   ]
  },
  {
   "cell_type": "code",
   "execution_count": null,
   "metadata": {},
   "outputs": [],
   "source": []
  },
  {
   "cell_type": "code",
   "execution_count": null,
   "metadata": {},
   "outputs": [],
   "source": []
  }
 ],
 "metadata": {
  "kernelspec": {
   "display_name": "Julia 1.10.3",
   "language": "julia",
   "name": "julia-1.10"
  },
  "language_info": {
   "file_extension": ".jl",
   "mimetype": "application/julia",
   "name": "julia",
   "version": "1.10.3"
  }
 },
 "nbformat": 4,
 "nbformat_minor": 2
}
