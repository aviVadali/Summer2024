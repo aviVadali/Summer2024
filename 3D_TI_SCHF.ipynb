{
 "cells": [
  {
   "cell_type": "code",
   "execution_count": null,
   "metadata": {},
   "outputs": [],
   "source": [
    "using LinearAlgebra\n",
    "using FFTW\n",
    "using Plots"
   ]
  },
  {
   "cell_type": "code",
   "execution_count": 12,
   "metadata": {},
   "outputs": [
    {
     "data": {
      "text/plain": [
       "1"
      ]
     },
     "execution_count": 12,
     "metadata": {},
     "output_type": "execute_result"
    }
   ],
   "source": [
    "# constants\n",
    "hbar = 1.0545718e-34  # Reduced Planck constant\n",
    "e = 1.6e-19  # Electron charge\n",
    "epsilon = 10  # Dielectric constant\n",
    "v_F = 1.0 # Dirac velocity\n",
    "a = 1 # lattice constant"
   ]
  },
  {
   "cell_type": "code",
   "execution_count": 13,
   "metadata": {},
   "outputs": [
    {
     "data": {
      "text/plain": [
       "2-element Vector{Float64}:\n",
       " 10.471975511965976\n",
       " -3.6275987284684357"
      ]
     },
     "execution_count": 13,
     "metadata": {},
     "output_type": "execute_result"
    }
   ],
   "source": [
    "G1 = [2*pi/a, -2*pi/(sqrt(3) * a)]\n",
    "G2 = [0, 2*pi/a * 2/sqrt(3)]\n",
    "kappa_1 = (2/3) * G1 + (1/3) * G2\n",
    "kappa_3 = kappa_1 - (G1 + G2)\n",
    "kappa_5 = kappa_1 + G1"
   ]
  },
  {
   "cell_type": "code",
   "execution_count": 1,
   "metadata": {},
   "outputs": [
    {
     "data": {
      "text/plain": [
       "sigma_z (generic function with 1 method)"
      ]
     },
     "execution_count": 1,
     "metadata": {},
     "output_type": "execute_result"
    }
   ],
   "source": [
    "# 2x2 Pauli X\n",
    "function sigma_x()\n",
    "    return [0 1; 1 0]\n",
    "end\n",
    "# 2x2 Pauli Y\n",
    "function sigma_y()\n",
    "    return [0 -im; im 0]\n",
    "end\n",
    "# 2x2 Pauli Z\n",
    "function sigma_z()\n",
    "    return [1 0; 0 -1]\n",
    "end"
   ]
  },
  {
   "cell_type": "code",
   "execution_count": 2,
   "metadata": {},
   "outputs": [
    {
     "data": {
      "text/plain": [
       "H_0 (generic function with 1 method)"
      ]
     },
     "execution_count": 2,
     "metadata": {},
     "output_type": "execute_result"
    }
   ],
   "source": [
    "# Kinetic term in spin-space\n",
    "function H_0(kx, ky, hbar, vF)\n",
    "    return hbar * vF * (kx * sigma_y() - ky * sigma_x())\n",
    "end"
   ]
  },
  {
   "cell_type": "code",
   "execution_count": 10,
   "metadata": {},
   "outputs": [
    {
     "data": {
      "text/plain": [
       "K1 (generic function with 1 method)"
      ]
     },
     "execution_count": 10,
     "metadata": {},
     "output_type": "execute_result"
    }
   ],
   "source": [
    "# Kinetic/volume for symmetric phase\n",
    "function K1(hbar, vF, lambda)\n",
    "    return -hbar * vF * lambda^3 / (6 * pi)\n",
    "end"
   ]
  },
  {
   "cell_type": "code",
   "execution_count": 11,
   "metadata": {},
   "outputs": [
    {
     "data": {
      "text/plain": [
       "K2 (generic function with 1 method)"
      ]
     },
     "execution_count": 11,
     "metadata": {},
     "output_type": "execute_result"
    }
   ],
   "source": [
    "# Kinetic/volume for time-reversal breaking phase\n",
    "function K2(hbar, vF, lambda1, lambda)\n",
    "    return -hbar * vF * (lambda1^2 + lambda^2)^(3/2) / (6 * pi)\n",
    "end"
   ]
  },
  {
   "cell_type": "code",
   "execution_count": 20,
   "metadata": {},
   "outputs": [
    {
     "data": {
      "text/plain": [
       "ham_3 (generic function with 1 method)"
      ]
     },
     "execution_count": 20,
     "metadata": {},
     "output_type": "execute_result"
    }
   ],
   "source": [
    "# Going to make a crude approximation that potential at K-points >> \n",
    "# potential everyhere else\n",
    "function ham_3(kx, ky, hbar, vF, lambda1, lambda2, k1, k2, k3)\n",
    "    h1 = H_0(kx + k1[1], ky + k1[2], hbar, vF)\n",
    "    h2 = H_0(kx + k2[1], ky + k2[2], hbar, vF)\n",
    "    h3 = H_0(kx + k3[1], ky + k3[2], hbar, vF)\n",
    "    H_temp = kron(h1, [1 0 0; 0 0 0; 0 0 0]) + kron(h2, [0 0 0; 0 1 0; 0 0 0]) + \n",
    "    kron(h3, [0 0 0; 0 0 0; 0 0 1])\n",
    "    H_temp += kron(lambda1 * sigma_z(), [1 0 0; 0 1 0; 0 0 1])\n",
    "    # periodic potential\n",
    "    h_connect = [0 lambda2 lambda2; conj(lambda2) 0 lambda2; \n",
    "    conj(lambda2) conj(lambda2) 0]\n",
    "    H_temp += kron([1 0; 0 1], h_connect)\n",
    "    return H_temp\n",
    "end"
   ]
  },
  {
   "cell_type": "code",
   "execution_count": null,
   "metadata": {},
   "outputs": [],
   "source": []
  }
 ],
 "metadata": {
  "kernelspec": {
   "display_name": "Julia 1.10.3",
   "language": "julia",
   "name": "julia-1.10"
  },
  "language_info": {
   "file_extension": ".jl",
   "mimetype": "application/julia",
   "name": "julia",
   "version": "1.10.3"
  }
 },
 "nbformat": 4,
 "nbformat_minor": 2
}
